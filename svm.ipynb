{
 "cells": [
  {
   "cell_type": "markdown",
   "metadata": {},
   "source": [
    "# Soybean Classification"
   ]
  },
  {
   "cell_type": "markdown",
   "metadata": {},
   "source": [
    "The primary goal of this project is to develop a predictive model capable of accurately diagnosing soybean diseases. Utilizing machine learning techniques, we aim to analyze a given soybean dataset to predict the type of disease affecting the crop based on various symptomatic features."
   ]
  },
  {
   "cell_type": "markdown",
   "metadata": {},
   "source": [
    "### Data set Overview "
   ]
  },
  {
   "cell_type": "markdown",
   "metadata": {},
   "source": [
    "The dataset for this project is obtained in ARFF format, a standard data file format for machine learning tasks. It comprises categorical features that describe the physical symptoms observed in soybean crops, each potentially indicative of specific diseases. The features encompass a range of plant symptoms such as lesion characteristics, plant growth, and environmental conditions during plant development. The dataset's target variable is a multi-class label representing various soybean diseases."
   ]
  },
  {
   "cell_type": "markdown",
   "metadata": {},
   "source": [
    "#### Loading the data"
   ]
  },
  {
   "cell_type": "code",
   "execution_count": 3,
   "metadata": {},
   "outputs": [
    {
     "data": {
      "text/html": [
       "<div>\n",
       "<style scoped>\n",
       "    .dataframe tbody tr th:only-of-type {\n",
       "        vertical-align: middle;\n",
       "    }\n",
       "\n",
       "    .dataframe tbody tr th {\n",
       "        vertical-align: top;\n",
       "    }\n",
       "\n",
       "    .dataframe thead th {\n",
       "        text-align: right;\n",
       "    }\n",
       "</style>\n",
       "<table border=\"1\" class=\"dataframe\">\n",
       "  <thead>\n",
       "    <tr style=\"text-align: right;\">\n",
       "      <th></th>\n",
       "      <th>date</th>\n",
       "      <th>plant-stand</th>\n",
       "      <th>precip</th>\n",
       "      <th>temp</th>\n",
       "      <th>hail</th>\n",
       "      <th>crop-hist</th>\n",
       "      <th>area-damaged</th>\n",
       "      <th>severity</th>\n",
       "      <th>seed-tmt</th>\n",
       "      <th>germination</th>\n",
       "      <th>...</th>\n",
       "      <th>sclerotia</th>\n",
       "      <th>fruit-pods</th>\n",
       "      <th>fruit-spots</th>\n",
       "      <th>seed</th>\n",
       "      <th>mold-growth</th>\n",
       "      <th>seed-discolor</th>\n",
       "      <th>seed-size</th>\n",
       "      <th>shriveling</th>\n",
       "      <th>roots</th>\n",
       "      <th>class</th>\n",
       "    </tr>\n",
       "  </thead>\n",
       "  <tbody>\n",
       "    <tr>\n",
       "      <th>0</th>\n",
       "      <td>b'october'</td>\n",
       "      <td>b'normal'</td>\n",
       "      <td>b'gt-norm'</td>\n",
       "      <td>b'norm'</td>\n",
       "      <td>b'yes'</td>\n",
       "      <td>b'same-lst-yr'</td>\n",
       "      <td>b'low-areas'</td>\n",
       "      <td>b'pot-severe'</td>\n",
       "      <td>b'none'</td>\n",
       "      <td>b'90-100'</td>\n",
       "      <td>...</td>\n",
       "      <td>b'absent'</td>\n",
       "      <td>b'norm'</td>\n",
       "      <td>b'dna'</td>\n",
       "      <td>b'norm'</td>\n",
       "      <td>b'absent'</td>\n",
       "      <td>b'absent'</td>\n",
       "      <td>b'norm'</td>\n",
       "      <td>b'absent'</td>\n",
       "      <td>b'norm'</td>\n",
       "      <td>b'diaporthe-stem-canker'</td>\n",
       "    </tr>\n",
       "    <tr>\n",
       "      <th>1</th>\n",
       "      <td>b'august'</td>\n",
       "      <td>b'normal'</td>\n",
       "      <td>b'gt-norm'</td>\n",
       "      <td>b'norm'</td>\n",
       "      <td>b'yes'</td>\n",
       "      <td>b'same-lst-two-yrs'</td>\n",
       "      <td>b'scattered'</td>\n",
       "      <td>b'severe'</td>\n",
       "      <td>b'fungicide'</td>\n",
       "      <td>b'80-89'</td>\n",
       "      <td>...</td>\n",
       "      <td>b'absent'</td>\n",
       "      <td>b'norm'</td>\n",
       "      <td>b'dna'</td>\n",
       "      <td>b'norm'</td>\n",
       "      <td>b'absent'</td>\n",
       "      <td>b'absent'</td>\n",
       "      <td>b'norm'</td>\n",
       "      <td>b'absent'</td>\n",
       "      <td>b'norm'</td>\n",
       "      <td>b'diaporthe-stem-canker'</td>\n",
       "    </tr>\n",
       "    <tr>\n",
       "      <th>2</th>\n",
       "      <td>b'july'</td>\n",
       "      <td>b'normal'</td>\n",
       "      <td>b'gt-norm'</td>\n",
       "      <td>b'norm'</td>\n",
       "      <td>b'yes'</td>\n",
       "      <td>b'same-lst-yr'</td>\n",
       "      <td>b'scattered'</td>\n",
       "      <td>b'severe'</td>\n",
       "      <td>b'fungicide'</td>\n",
       "      <td>b'lt-80'</td>\n",
       "      <td>...</td>\n",
       "      <td>b'absent'</td>\n",
       "      <td>b'norm'</td>\n",
       "      <td>b'dna'</td>\n",
       "      <td>b'norm'</td>\n",
       "      <td>b'absent'</td>\n",
       "      <td>b'absent'</td>\n",
       "      <td>b'norm'</td>\n",
       "      <td>b'absent'</td>\n",
       "      <td>b'norm'</td>\n",
       "      <td>b'diaporthe-stem-canker'</td>\n",
       "    </tr>\n",
       "    <tr>\n",
       "      <th>3</th>\n",
       "      <td>b'july'</td>\n",
       "      <td>b'normal'</td>\n",
       "      <td>b'gt-norm'</td>\n",
       "      <td>b'norm'</td>\n",
       "      <td>b'yes'</td>\n",
       "      <td>b'same-lst-yr'</td>\n",
       "      <td>b'scattered'</td>\n",
       "      <td>b'severe'</td>\n",
       "      <td>b'none'</td>\n",
       "      <td>b'80-89'</td>\n",
       "      <td>...</td>\n",
       "      <td>b'absent'</td>\n",
       "      <td>b'norm'</td>\n",
       "      <td>b'dna'</td>\n",
       "      <td>b'norm'</td>\n",
       "      <td>b'absent'</td>\n",
       "      <td>b'absent'</td>\n",
       "      <td>b'norm'</td>\n",
       "      <td>b'absent'</td>\n",
       "      <td>b'norm'</td>\n",
       "      <td>b'diaporthe-stem-canker'</td>\n",
       "    </tr>\n",
       "    <tr>\n",
       "      <th>4</th>\n",
       "      <td>b'october'</td>\n",
       "      <td>b'normal'</td>\n",
       "      <td>b'gt-norm'</td>\n",
       "      <td>b'norm'</td>\n",
       "      <td>b'yes'</td>\n",
       "      <td>b'same-lst-two-yrs'</td>\n",
       "      <td>b'scattered'</td>\n",
       "      <td>b'pot-severe'</td>\n",
       "      <td>b'none'</td>\n",
       "      <td>b'lt-80'</td>\n",
       "      <td>...</td>\n",
       "      <td>b'absent'</td>\n",
       "      <td>b'norm'</td>\n",
       "      <td>b'dna'</td>\n",
       "      <td>b'norm'</td>\n",
       "      <td>b'absent'</td>\n",
       "      <td>b'absent'</td>\n",
       "      <td>b'norm'</td>\n",
       "      <td>b'absent'</td>\n",
       "      <td>b'norm'</td>\n",
       "      <td>b'diaporthe-stem-canker'</td>\n",
       "    </tr>\n",
       "    <tr>\n",
       "      <th>...</th>\n",
       "      <td>...</td>\n",
       "      <td>...</td>\n",
       "      <td>...</td>\n",
       "      <td>...</td>\n",
       "      <td>...</td>\n",
       "      <td>...</td>\n",
       "      <td>...</td>\n",
       "      <td>...</td>\n",
       "      <td>...</td>\n",
       "      <td>...</td>\n",
       "      <td>...</td>\n",
       "      <td>...</td>\n",
       "      <td>...</td>\n",
       "      <td>...</td>\n",
       "      <td>...</td>\n",
       "      <td>...</td>\n",
       "      <td>...</td>\n",
       "      <td>...</td>\n",
       "      <td>...</td>\n",
       "      <td>...</td>\n",
       "      <td>...</td>\n",
       "    </tr>\n",
       "    <tr>\n",
       "      <th>678</th>\n",
       "      <td>b'april'</td>\n",
       "      <td>b'?'</td>\n",
       "      <td>b'?'</td>\n",
       "      <td>b'?'</td>\n",
       "      <td>b'?'</td>\n",
       "      <td>b'?'</td>\n",
       "      <td>b'upper-areas'</td>\n",
       "      <td>b'?'</td>\n",
       "      <td>b'?'</td>\n",
       "      <td>b'?'</td>\n",
       "      <td>...</td>\n",
       "      <td>b'?'</td>\n",
       "      <td>b'?'</td>\n",
       "      <td>b'?'</td>\n",
       "      <td>b'?'</td>\n",
       "      <td>b'?'</td>\n",
       "      <td>b'?'</td>\n",
       "      <td>b'?'</td>\n",
       "      <td>b'?'</td>\n",
       "      <td>b'?'</td>\n",
       "      <td>b'2-4-d-injury'</td>\n",
       "    </tr>\n",
       "    <tr>\n",
       "      <th>679</th>\n",
       "      <td>b'april'</td>\n",
       "      <td>b'lt-normal'</td>\n",
       "      <td>b'?'</td>\n",
       "      <td>b'lt-norm'</td>\n",
       "      <td>b'?'</td>\n",
       "      <td>b'diff-lst-year'</td>\n",
       "      <td>b'scattered'</td>\n",
       "      <td>b'?'</td>\n",
       "      <td>b'?'</td>\n",
       "      <td>b'?'</td>\n",
       "      <td>...</td>\n",
       "      <td>b'?'</td>\n",
       "      <td>b'dna'</td>\n",
       "      <td>b'?'</td>\n",
       "      <td>b'?'</td>\n",
       "      <td>b'?'</td>\n",
       "      <td>b'?'</td>\n",
       "      <td>b'?'</td>\n",
       "      <td>b'?'</td>\n",
       "      <td>b'rotted'</td>\n",
       "      <td>b'herbicide-injury'</td>\n",
       "    </tr>\n",
       "    <tr>\n",
       "      <th>680</th>\n",
       "      <td>b'june'</td>\n",
       "      <td>b'lt-normal'</td>\n",
       "      <td>b'?'</td>\n",
       "      <td>b'lt-norm'</td>\n",
       "      <td>b'?'</td>\n",
       "      <td>b'diff-lst-year'</td>\n",
       "      <td>b'scattered'</td>\n",
       "      <td>b'?'</td>\n",
       "      <td>b'?'</td>\n",
       "      <td>b'?'</td>\n",
       "      <td>...</td>\n",
       "      <td>b'?'</td>\n",
       "      <td>b'dna'</td>\n",
       "      <td>b'?'</td>\n",
       "      <td>b'?'</td>\n",
       "      <td>b'?'</td>\n",
       "      <td>b'?'</td>\n",
       "      <td>b'?'</td>\n",
       "      <td>b'?'</td>\n",
       "      <td>b'rotted'</td>\n",
       "      <td>b'herbicide-injury'</td>\n",
       "    </tr>\n",
       "    <tr>\n",
       "      <th>681</th>\n",
       "      <td>b'april'</td>\n",
       "      <td>b'lt-normal'</td>\n",
       "      <td>b'?'</td>\n",
       "      <td>b'lt-norm'</td>\n",
       "      <td>b'?'</td>\n",
       "      <td>b'same-lst-yr'</td>\n",
       "      <td>b'whole-field'</td>\n",
       "      <td>b'?'</td>\n",
       "      <td>b'?'</td>\n",
       "      <td>b'?'</td>\n",
       "      <td>...</td>\n",
       "      <td>b'?'</td>\n",
       "      <td>b'dna'</td>\n",
       "      <td>b'?'</td>\n",
       "      <td>b'?'</td>\n",
       "      <td>b'?'</td>\n",
       "      <td>b'?'</td>\n",
       "      <td>b'?'</td>\n",
       "      <td>b'?'</td>\n",
       "      <td>b'rotted'</td>\n",
       "      <td>b'herbicide-injury'</td>\n",
       "    </tr>\n",
       "    <tr>\n",
       "      <th>682</th>\n",
       "      <td>b'june'</td>\n",
       "      <td>b'lt-normal'</td>\n",
       "      <td>b'?'</td>\n",
       "      <td>b'lt-norm'</td>\n",
       "      <td>b'?'</td>\n",
       "      <td>b'same-lst-yr'</td>\n",
       "      <td>b'whole-field'</td>\n",
       "      <td>b'?'</td>\n",
       "      <td>b'?'</td>\n",
       "      <td>b'?'</td>\n",
       "      <td>...</td>\n",
       "      <td>b'?'</td>\n",
       "      <td>b'dna'</td>\n",
       "      <td>b'?'</td>\n",
       "      <td>b'?'</td>\n",
       "      <td>b'?'</td>\n",
       "      <td>b'?'</td>\n",
       "      <td>b'?'</td>\n",
       "      <td>b'?'</td>\n",
       "      <td>b'rotted'</td>\n",
       "      <td>b'herbicide-injury'</td>\n",
       "    </tr>\n",
       "  </tbody>\n",
       "</table>\n",
       "<p>683 rows × 36 columns</p>\n",
       "</div>"
      ],
      "text/plain": [
       "           date   plant-stand      precip        temp    hail  \\\n",
       "0    b'october'     b'normal'  b'gt-norm'     b'norm'  b'yes'   \n",
       "1     b'august'     b'normal'  b'gt-norm'     b'norm'  b'yes'   \n",
       "2       b'july'     b'normal'  b'gt-norm'     b'norm'  b'yes'   \n",
       "3       b'july'     b'normal'  b'gt-norm'     b'norm'  b'yes'   \n",
       "4    b'october'     b'normal'  b'gt-norm'     b'norm'  b'yes'   \n",
       "..          ...           ...         ...         ...     ...   \n",
       "678    b'april'          b'?'        b'?'        b'?'    b'?'   \n",
       "679    b'april'  b'lt-normal'        b'?'  b'lt-norm'    b'?'   \n",
       "680     b'june'  b'lt-normal'        b'?'  b'lt-norm'    b'?'   \n",
       "681    b'april'  b'lt-normal'        b'?'  b'lt-norm'    b'?'   \n",
       "682     b'june'  b'lt-normal'        b'?'  b'lt-norm'    b'?'   \n",
       "\n",
       "               crop-hist    area-damaged       severity      seed-tmt  \\\n",
       "0         b'same-lst-yr'    b'low-areas'  b'pot-severe'       b'none'   \n",
       "1    b'same-lst-two-yrs'    b'scattered'      b'severe'  b'fungicide'   \n",
       "2         b'same-lst-yr'    b'scattered'      b'severe'  b'fungicide'   \n",
       "3         b'same-lst-yr'    b'scattered'      b'severe'       b'none'   \n",
       "4    b'same-lst-two-yrs'    b'scattered'  b'pot-severe'       b'none'   \n",
       "..                   ...             ...            ...           ...   \n",
       "678                 b'?'  b'upper-areas'           b'?'          b'?'   \n",
       "679     b'diff-lst-year'    b'scattered'           b'?'          b'?'   \n",
       "680     b'diff-lst-year'    b'scattered'           b'?'          b'?'   \n",
       "681       b'same-lst-yr'  b'whole-field'           b'?'          b'?'   \n",
       "682       b'same-lst-yr'  b'whole-field'           b'?'          b'?'   \n",
       "\n",
       "    germination  ...  sclerotia fruit-pods fruit-spots     seed mold-growth  \\\n",
       "0     b'90-100'  ...  b'absent'    b'norm'      b'dna'  b'norm'   b'absent'   \n",
       "1      b'80-89'  ...  b'absent'    b'norm'      b'dna'  b'norm'   b'absent'   \n",
       "2      b'lt-80'  ...  b'absent'    b'norm'      b'dna'  b'norm'   b'absent'   \n",
       "3      b'80-89'  ...  b'absent'    b'norm'      b'dna'  b'norm'   b'absent'   \n",
       "4      b'lt-80'  ...  b'absent'    b'norm'      b'dna'  b'norm'   b'absent'   \n",
       "..          ...  ...        ...        ...         ...      ...         ...   \n",
       "678        b'?'  ...       b'?'       b'?'        b'?'     b'?'        b'?'   \n",
       "679        b'?'  ...       b'?'     b'dna'        b'?'     b'?'        b'?'   \n",
       "680        b'?'  ...       b'?'     b'dna'        b'?'     b'?'        b'?'   \n",
       "681        b'?'  ...       b'?'     b'dna'        b'?'     b'?'        b'?'   \n",
       "682        b'?'  ...       b'?'     b'dna'        b'?'     b'?'        b'?'   \n",
       "\n",
       "    seed-discolor seed-size shriveling      roots                     class  \n",
       "0       b'absent'   b'norm'  b'absent'    b'norm'  b'diaporthe-stem-canker'  \n",
       "1       b'absent'   b'norm'  b'absent'    b'norm'  b'diaporthe-stem-canker'  \n",
       "2       b'absent'   b'norm'  b'absent'    b'norm'  b'diaporthe-stem-canker'  \n",
       "3       b'absent'   b'norm'  b'absent'    b'norm'  b'diaporthe-stem-canker'  \n",
       "4       b'absent'   b'norm'  b'absent'    b'norm'  b'diaporthe-stem-canker'  \n",
       "..            ...       ...        ...        ...                       ...  \n",
       "678          b'?'      b'?'       b'?'       b'?'           b'2-4-d-injury'  \n",
       "679          b'?'      b'?'       b'?'  b'rotted'       b'herbicide-injury'  \n",
       "680          b'?'      b'?'       b'?'  b'rotted'       b'herbicide-injury'  \n",
       "681          b'?'      b'?'       b'?'  b'rotted'       b'herbicide-injury'  \n",
       "682          b'?'      b'?'       b'?'  b'rotted'       b'herbicide-injury'  \n",
       "\n",
       "[683 rows x 36 columns]"
      ]
     },
     "execution_count": 3,
     "metadata": {},
     "output_type": "execute_result"
    }
   ],
   "source": [
    "import numpy as np\n",
    "import pandas as pd\n",
    "from scipy.io.arff import loadarff\n",
    "import matplotlib.pyplot as plt\n",
    "import seaborn as sns\n",
    "\n",
    "raw_data = loadarff('dataset_42_soybean.arff')\n",
    "df = pd.DataFrame(raw_data[0])\n",
    "\n",
    "df"
   ]
  },
  {
   "cell_type": "markdown",
   "metadata": {},
   "source": [
    "We can notice that the data is encoded into byte literals, we need to decode it into string data"
   ]
  },
  {
   "cell_type": "code",
   "execution_count": 4,
   "metadata": {},
   "outputs": [
    {
     "name": "stderr",
     "output_type": "stream",
     "text": [
      "/var/folders/q3/1kldbkgd43q57w_mfmqsvvk00000gn/T/ipykernel_9846/1642383700.py:1: FutureWarning: DataFrame.applymap has been deprecated. Use DataFrame.map instead.\n",
      "  df = df.applymap(lambda x: x.decode('utf-8') if isinstance(x, bytes) else x)\n"
     ]
    },
    {
     "data": {
      "text/html": [
       "<div>\n",
       "<style scoped>\n",
       "    .dataframe tbody tr th:only-of-type {\n",
       "        vertical-align: middle;\n",
       "    }\n",
       "\n",
       "    .dataframe tbody tr th {\n",
       "        vertical-align: top;\n",
       "    }\n",
       "\n",
       "    .dataframe thead th {\n",
       "        text-align: right;\n",
       "    }\n",
       "</style>\n",
       "<table border=\"1\" class=\"dataframe\">\n",
       "  <thead>\n",
       "    <tr style=\"text-align: right;\">\n",
       "      <th></th>\n",
       "      <th>date</th>\n",
       "      <th>plant-stand</th>\n",
       "      <th>precip</th>\n",
       "      <th>temp</th>\n",
       "      <th>hail</th>\n",
       "      <th>crop-hist</th>\n",
       "      <th>area-damaged</th>\n",
       "      <th>severity</th>\n",
       "      <th>seed-tmt</th>\n",
       "      <th>germination</th>\n",
       "      <th>...</th>\n",
       "      <th>sclerotia</th>\n",
       "      <th>fruit-pods</th>\n",
       "      <th>fruit-spots</th>\n",
       "      <th>seed</th>\n",
       "      <th>mold-growth</th>\n",
       "      <th>seed-discolor</th>\n",
       "      <th>seed-size</th>\n",
       "      <th>shriveling</th>\n",
       "      <th>roots</th>\n",
       "      <th>class</th>\n",
       "    </tr>\n",
       "  </thead>\n",
       "  <tbody>\n",
       "    <tr>\n",
       "      <th>0</th>\n",
       "      <td>october</td>\n",
       "      <td>normal</td>\n",
       "      <td>gt-norm</td>\n",
       "      <td>norm</td>\n",
       "      <td>yes</td>\n",
       "      <td>same-lst-yr</td>\n",
       "      <td>low-areas</td>\n",
       "      <td>pot-severe</td>\n",
       "      <td>none</td>\n",
       "      <td>90-100</td>\n",
       "      <td>...</td>\n",
       "      <td>absent</td>\n",
       "      <td>norm</td>\n",
       "      <td>dna</td>\n",
       "      <td>norm</td>\n",
       "      <td>absent</td>\n",
       "      <td>absent</td>\n",
       "      <td>norm</td>\n",
       "      <td>absent</td>\n",
       "      <td>norm</td>\n",
       "      <td>diaporthe-stem-canker</td>\n",
       "    </tr>\n",
       "    <tr>\n",
       "      <th>1</th>\n",
       "      <td>august</td>\n",
       "      <td>normal</td>\n",
       "      <td>gt-norm</td>\n",
       "      <td>norm</td>\n",
       "      <td>yes</td>\n",
       "      <td>same-lst-two-yrs</td>\n",
       "      <td>scattered</td>\n",
       "      <td>severe</td>\n",
       "      <td>fungicide</td>\n",
       "      <td>80-89</td>\n",
       "      <td>...</td>\n",
       "      <td>absent</td>\n",
       "      <td>norm</td>\n",
       "      <td>dna</td>\n",
       "      <td>norm</td>\n",
       "      <td>absent</td>\n",
       "      <td>absent</td>\n",
       "      <td>norm</td>\n",
       "      <td>absent</td>\n",
       "      <td>norm</td>\n",
       "      <td>diaporthe-stem-canker</td>\n",
       "    </tr>\n",
       "    <tr>\n",
       "      <th>2</th>\n",
       "      <td>july</td>\n",
       "      <td>normal</td>\n",
       "      <td>gt-norm</td>\n",
       "      <td>norm</td>\n",
       "      <td>yes</td>\n",
       "      <td>same-lst-yr</td>\n",
       "      <td>scattered</td>\n",
       "      <td>severe</td>\n",
       "      <td>fungicide</td>\n",
       "      <td>lt-80</td>\n",
       "      <td>...</td>\n",
       "      <td>absent</td>\n",
       "      <td>norm</td>\n",
       "      <td>dna</td>\n",
       "      <td>norm</td>\n",
       "      <td>absent</td>\n",
       "      <td>absent</td>\n",
       "      <td>norm</td>\n",
       "      <td>absent</td>\n",
       "      <td>norm</td>\n",
       "      <td>diaporthe-stem-canker</td>\n",
       "    </tr>\n",
       "  </tbody>\n",
       "</table>\n",
       "<p>3 rows × 36 columns</p>\n",
       "</div>"
      ],
      "text/plain": [
       "      date plant-stand   precip  temp hail         crop-hist area-damaged  \\\n",
       "0  october      normal  gt-norm  norm  yes       same-lst-yr    low-areas   \n",
       "1   august      normal  gt-norm  norm  yes  same-lst-two-yrs    scattered   \n",
       "2     july      normal  gt-norm  norm  yes       same-lst-yr    scattered   \n",
       "\n",
       "     severity   seed-tmt germination  ... sclerotia fruit-pods fruit-spots  \\\n",
       "0  pot-severe       none      90-100  ...    absent       norm         dna   \n",
       "1      severe  fungicide       80-89  ...    absent       norm         dna   \n",
       "2      severe  fungicide       lt-80  ...    absent       norm         dna   \n",
       "\n",
       "   seed mold-growth seed-discolor seed-size shriveling roots  \\\n",
       "0  norm      absent        absent      norm     absent  norm   \n",
       "1  norm      absent        absent      norm     absent  norm   \n",
       "2  norm      absent        absent      norm     absent  norm   \n",
       "\n",
       "                   class  \n",
       "0  diaporthe-stem-canker  \n",
       "1  diaporthe-stem-canker  \n",
       "2  diaporthe-stem-canker  \n",
       "\n",
       "[3 rows x 36 columns]"
      ]
     },
     "execution_count": 4,
     "metadata": {},
     "output_type": "execute_result"
    }
   ],
   "source": [
    "df = df.applymap(lambda x: x.decode('utf-8') if isinstance(x, bytes) else x)\n",
    "\n",
    "df.head(3)"
   ]
  },
  {
   "cell_type": "markdown",
   "metadata": {},
   "source": [
    "### EDA"
   ]
  },
  {
   "cell_type": "markdown",
   "metadata": {},
   "source": [
    "Now that we've discovered the data set, we need to start with the EDA."
   ]
  },
  {
   "cell_type": "markdown",
   "metadata": {},
   "source": [
    "##### Cleaning and chacking the data"
   ]
  },
  {
   "cell_type": "markdown",
   "metadata": {},
   "source": [
    "We started by checking the data for any missing values or duplicate values and found the following: \n",
    "\n",
    "The data set does not contain any missing values in its features which is very good.  \n",
    "However there are 52 duplicate rows. These duplicate rows could skew our analysis and model training, so they need to be removed. \n",
    "\n",
    "After removing the duplicate rows the data set will contain 631 unique entries."
   ]
  },
  {
   "cell_type": "markdown",
   "metadata": {},
   "source": [
    "#### Feature Analysis"
   ]
  },
  {
   "cell_type": "markdown",
   "metadata": {},
   "source": [
    "Next we're going to move to feature analysis, for that we will start by looking at the distribution of categories within \n",
    "a few selected features and the target variable 'class' to understand the diversity and the frewquency of the diseases. Let's start with plant-stand, precip, and the class (target variable)"
   ]
  },
  {
   "cell_type": "markdown",
   "metadata": {},
   "source": [
    "**Feature Analysis Summary**"
   ]
  },
  {
   "cell_type": "markdown",
   "metadata": {},
   "source": [
    "Plant-Stand:\n",
    "\n",
    "    Normal: 333 instances\n",
    "    Less than Normal: 266 instances\n",
    "    Missing (denoted by '?'): 32 instances\n",
    "\n",
    "Precipitation (Precip):\n",
    "\n",
    "    Greater than Normal: 422 instances\n",
    "    Normal: 103 instances\n",
    "    Less than Normal: 72 instances\n",
    "    Missing (denoted by '?'): 34 instances"
   ]
  },
  {
   "cell_type": "markdown",
   "metadata": {},
   "source": [
    "**Target Variable (Class) Distribution Summary**"
   ]
  },
  {
   "cell_type": "markdown",
   "metadata": {},
   "source": [
    "The target variable, representing different soybean diseases, shows a varied distribution among 19 classes:\n",
    "\n",
    "    Alternaria Leaf Spot: \n",
    "    The most frequent class with 88 instances.\n",
    "\n",
    "    Frog Eye Leaf Spot:\n",
    "    81 instances.\n",
    "\n",
    "    Brown Spot: \n",
    "    77 instances.\n",
    "\n",
    "    Phytophthora Rot: \n",
    "    71 instances.\n",
    "\n",
    "    Classes like Diaporthe Stem Canker, Purple Seed Stain, Phyllosticta Leaf Spot, Bacterial Pustule, Charcoal Rot, Bacterial Blight, \n",
    "    Downy Mildew, Powdery Mildew, and Rhizoctonia Root Rot each have 20 instances.\n",
    "\n",
    "    Herbicide Injury is the least common, with only 8 instances."
   ]
  },
  {
   "cell_type": "markdown",
   "metadata": {},
   "source": [
    "The presence of missing values denoted by '?' in features such as plant-stand and precip suggests we should decide how to handle these during preprocessing. Options include imputation, removal, or treating them as a separate category, depending on their impact on the model."
   ]
  },
  {
   "cell_type": "markdown",
   "metadata": {},
   "source": [
    "\n",
    "<img src=\"Plant_Stand_Prec.png\" width=\"500\" >\n"
   ]
  },
  {
   "cell_type": "markdown",
   "metadata": {},
   "source": [
    "Distribution of Plant Stand: \n",
    "\n",
    "     The dataset contains more instances with a 'normal' plant stand than 'lt-normal' (less than normal), with a small number of entries labeled as unknown ('?')."
   ]
  },
  {
   "cell_type": "markdown",
   "metadata": {},
   "source": [
    "Distribution of Precipitation: \n",
    "\n",
    "    Most of the entries have 'gt-norm' (greater than normal) precipitation, with fewer instances having 'norm' (normal) and 'lt-norm' (less than normal) levels. Similar to 'plant-stand', there are some unknown values here as well"
   ]
  },
  {
   "cell_type": "markdown",
   "metadata": {},
   "source": [
    "Distribution of Soybean Diseases (Class): \n",
    "    \n",
    "    The target variable shows a varied distribution of diseases, with some being more common than others. 'Alternarialeaf-spot', 'frog-eye-leaf-spot', and 'brown-spot' are among the most frequent diseases, whereas 'herbicide-injury' is less common. This uneven distribution indicates that some diseases are more prevalent under certain conditions, which could be essential for predicting the disease based on environmental and plant conditions."
   ]
  },
  {
   "cell_type": "markdown",
   "metadata": {},
   "source": [
    "We can notice the presence of these '?' values which we will take care of soon"
   ]
  },
  {
   "cell_type": "markdown",
   "metadata": {},
   "source": [
    "### Exploring Relationships\n"
   ]
  },
  {
   "cell_type": "markdown",
   "metadata": {},
   "source": [
    "We'll start by summarizing the relationship between plant-stand, precip, and a few selected diseases to provide insights that can guide further analysis or modeling decisions."
   ]
  },
  {
   "cell_type": "markdown",
   "metadata": {},
   "source": [
    "Based on the simplified analysis focusing on the top three diseases (alternarialeaf-spot, brown-spot, and frog-eye-leaf-spot), we can observe how these diseases relate to plant-stand and precip conditions:"
   ]
  },
  {
   "cell_type": "markdown",
   "metadata": {},
   "source": [
    "#### **Plant Stand Summary:**"
   ]
  },
  {
   "cell_type": "markdown",
   "metadata": {},
   "source": [
    "Alternarialeaf Spot: \n",
    "\n",
    "    Appears more frequently in normal plant stand conditions (55 occurrences) compared to less than normal conditions (33 occurrences).\n",
    "\n",
    "\n",
    "Brown Spot: \n",
    "\n",
    "    Also more common in normal plant stand conditions (48 occurrences) than in less than normal (29 occurrences).\n",
    "\n",
    "    \n",
    "Frog-Eye Leaf Spot:\n",
    "\n",
    "    This disease has the highest occurrence in normal plant stand conditions (57 occurrences) compared to less than normal (24 occurrences)."
   ]
  },
  {
   "cell_type": "markdown",
   "metadata": {},
   "source": [
    "#### **Precipitation Summary:**"
   ]
  },
  {
   "cell_type": "markdown",
   "metadata": {},
   "source": [
    "Alternarialeaf Spot: \n",
    "\n",
    "    Significantly more prevalent under conditions of greater than normal precipitation (79 occurrences), with fewer occurrences under normal precipitation (9 occurrences).\n",
    "Brown Spot: \n",
    "\n",
    "    Similar to Alternarialeaf Spot, more common in greater than normal precipitation (67 occurrences) compared to normal precipitation (10 occurrences).\n",
    "\n",
    "Frog-Eye Leaf Spot:\n",
    "\n",
    "    Follows the same trend, with most occurrences under greater than normal precipitation (71 occurrences) and fewer under normal conditions (10 occurrences)."
   ]
  },
  {
   "cell_type": "markdown",
   "metadata": {},
   "source": [
    "**These summaries suggest that the occurrence of these top soybean diseases is more frequent under conditions of normal plant stand and greater than normal precipitation. This could imply that certain environmental conditions, such as ample water supply, might favor the development of these diseases, especially in healthier plants with a normal stand.**"
   ]
  },
  {
   "cell_type": "markdown",
   "metadata": {},
   "source": [
    "### Data Preparation"
   ]
  },
  {
   "cell_type": "markdown",
   "metadata": {},
   "source": [
    " #### Now we need to move to a very important step which is data preparation and we will be doing the following:"
   ]
  },
  {
   "cell_type": "markdown",
   "metadata": {},
   "source": [
    "##### Encoding Categorical Variables: \n",
    "\n",
    "Since SVM (Support Vector Machine) works with numerical data, we need to convert all categorical variables into a numerical format. One common method is one-hot encoding, where each category value is converted into a new categorical column and assigned a 1 or 0 (notation for true/false) value to the column. However, given the nature of the dataset, label encoding (which assigns a unique integer to each category value) might be more space-efficient due to the large number of categories."
   ]
  },
  {
   "cell_type": "markdown",
   "metadata": {},
   "source": [
    "##### Handling Missing Values:"
   ]
  },
  {
   "cell_type": "markdown",
   "metadata": {},
   "source": [
    "We will be handling missing values which are labeled by '?'.\n",
    "\n",
    "The '?' values will be replaced by 'unknown'\n",
    "\n",
    "\n",
    "The dataset contains a total of 1,913 instances of '?' values spread across various features, with no single feature overwhelmingly affected. \n",
    "\n",
    "Missing values were replaced with the most frequent value within each column. This method ensures that the imputed values are consistent with the existing distribution of categories within each feature, thereby preserving the dataset's overall characteristics. Additionally, this approach allows for the seamless integration of imputed data into subsequent steps of the analysis pipeline, including feature encoding and selection, without introducing biases or artifacts that could compromise the model's performance. By imputing missing values in this manner, the dataset was made more robust and suitable for training a reliable classification model to predict soybean diseases."
   ]
  },
  {
   "cell_type": "markdown",
   "metadata": {},
   "source": [
    "##### Feature Scaling"
   ]
  },
  {
   "cell_type": "markdown",
   "metadata": {},
   "source": [
    " SVMs are sensitive to the scale of the input features, so it's important to scale the features to a similar range"
   ]
  },
  {
   "cell_type": "markdown",
   "metadata": {},
   "source": [
    "We'll start with encoding the categorical variables. We'll use label encoding for simplicity and efficiency, given the dataset's structure. After encoding, we'll proceed with feature scaling and then split the dataset into training and testing sets."
   ]
  },
  {
   "cell_type": "markdown",
   "metadata": {},
   "source": [
    "##### Splitting the Data Set"
   ]
  },
  {
   "cell_type": "markdown",
   "metadata": {},
   "source": [
    "After scaling we'll split the dataset into training and testing sets to prepare for model training and evaluation."
   ]
  },
  {
   "cell_type": "markdown",
   "metadata": {},
   "source": [
    "Training Set: 504 samples\n",
    "\n",
    "Testing Set: 127 samples"
   ]
  },
  {
   "cell_type": "markdown",
   "metadata": {},
   "source": [
    "### Understanding the Features"
   ]
  },
  {
   "cell_type": "markdown",
   "metadata": {},
   "source": [
    "Cramer's V is a great choice for assessing the association between categorical variables, providing a statistic that measures the strength of association between two nominal variables, independent of the number of categories.\n",
    "\n",
    "To apply Cramer's V, we'll compute the statistic for each pair of features in the dataset, then visualize these associations in a heatmap similar to the correlation matrix heatmap. This approach will help us understand the relationships between features better."
   ]
  },
  {
   "cell_type": "markdown",
   "metadata": {},
   "source": [
    "<img src=\"Cramer.png\" width=\"700\">"
   ]
  },
  {
   "cell_type": "markdown",
   "metadata": {},
   "source": [
    "Now that we've spotted the correlations we can actually use a very efficient method for feature selection that recursively removes\n",
    "the least important features based on the model's coefficients or feature importance. "
   ]
  },
  {
   "cell_type": "markdown",
   "metadata": {},
   "source": [
    "<img src=\"RFE.png\" width=\"700\" >"
   ]
  },
  {
   "cell_type": "markdown",
   "metadata": {},
   "source": [
    "The Recursive Feature Elimination (RFE) process with cross-validation (RFECV) suggests that the optimal number of features for predicting soybean diseases using an SVM model is 19. The plot shows how the cross-validation score varies with the number of features selected, indicating that having around 19 features provides the best balance between model complexity and accuracy.\n",
    "\n",
    "This result demonstrates the potential to reduce the dataset from 35 features to 19 without compromising model performance, which can lead to a simpler, more interpretable model."
   ]
  },
  {
   "cell_type": "markdown",
   "metadata": {},
   "source": [
    "### The SVM model "
   ]
  },
  {
   "cell_type": "markdown",
   "metadata": {},
   "source": [
    "Importing the ressources we need"
   ]
  },
  {
   "cell_type": "code",
   "execution_count": 5,
   "metadata": {},
   "outputs": [],
   "source": [
    "import numpy as np\n",
    "import pandas as pd\n",
    "from scipy.io import arff\n",
    "from sklearn.model_selection import train_test_split, StratifiedKFold\n",
    "from sklearn.preprocessing import OneHotEncoder\n",
    "from sklearn.compose import ColumnTransformer\n",
    "from sklearn.pipeline import Pipeline\n",
    "from sklearn.feature_selection import RFECV\n",
    "from sklearn.svm import SVC\n",
    "from sklearn.metrics import classification_report, accuracy_score\n",
    "from sklearn.impute import SimpleImputer"
   ]
  },
  {
   "cell_type": "markdown",
   "metadata": {},
   "source": [
    "Loading the dataset"
   ]
  },
  {
   "cell_type": "code",
   "execution_count": 6,
   "metadata": {},
   "outputs": [],
   "source": [
    "data, meta = arff.loadarff('dataset_42_soybean.arff')\n",
    "df = pd.DataFrame(data)"
   ]
  },
  {
   "cell_type": "markdown",
   "metadata": {},
   "source": [
    "Decoding byte strings and handling missing values"
   ]
  },
  {
   "cell_type": "code",
   "execution_count": 7,
   "metadata": {},
   "outputs": [
    {
     "name": "stderr",
     "output_type": "stream",
     "text": [
      "/var/folders/q3/1kldbkgd43q57w_mfmqsvvk00000gn/T/ipykernel_9846/2692274460.py:1: FutureWarning: DataFrame.applymap has been deprecated. Use DataFrame.map instead.\n",
      "  df = df.applymap(lambda x: x.decode('utf-8') if isinstance(x, bytes) else x)\n"
     ]
    }
   ],
   "source": [
    "df = df.applymap(lambda x: x.decode('utf-8') if isinstance(x, bytes) else x)"
   ]
  },
  {
   "cell_type": "markdown",
   "metadata": {},
   "source": [
    "Imputing missing values with the most frequent value in each column"
   ]
  },
  {
   "cell_type": "code",
   "execution_count": 8,
   "metadata": {},
   "outputs": [],
   "source": [
    "imputer = SimpleImputer(missing_values='?', strategy='most_frequent')\n",
    "df_imputed = pd.DataFrame(imputer.fit_transform(df), columns=df.columns)"
   ]
  },
  {
   "cell_type": "markdown",
   "metadata": {},
   "source": [
    "Removing duplicate rows"
   ]
  },
  {
   "cell_type": "code",
   "execution_count": 9,
   "metadata": {},
   "outputs": [],
   "source": [
    "df_imputed = df_imputed.drop_duplicates()"
   ]
  },
  {
   "cell_type": "markdown",
   "metadata": {},
   "source": [
    "Separating features and target variable"
   ]
  },
  {
   "cell_type": "code",
   "execution_count": 10,
   "metadata": {},
   "outputs": [],
   "source": [
    "y = df_imputed['class']\n",
    "X = df_imputed.drop('class', axis=1)"
   ]
  },
  {
   "cell_type": "markdown",
   "metadata": {},
   "source": [
    "Defining categorical features for one-hot encoding"
   ]
  },
  {
   "cell_type": "code",
   "execution_count": 11,
   "metadata": {},
   "outputs": [],
   "source": [
    "categorical_features = X.columns"
   ]
  },
  {
   "cell_type": "markdown",
   "metadata": {},
   "source": [
    "Preprocessor for one-hot encoding categorical features"
   ]
  },
  {
   "cell_type": "code",
   "execution_count": 12,
   "metadata": {},
   "outputs": [],
   "source": [
    "preprocessor = ColumnTransformer(transformers=[\n",
    "    ('cat', OneHotEncoder(), categorical_features)\n",
    "])"
   ]
  },
  {
   "cell_type": "markdown",
   "metadata": {},
   "source": [
    "SVM classifier and RFECV for feature selection"
   ]
  },
  {
   "cell_type": "code",
   "execution_count": 13,
   "metadata": {},
   "outputs": [],
   "source": [
    "svm_clf = SVC(kernel='linear', C=1, random_state=42)\n",
    "rfecv = RFECV(estimator=svm_clf, step=1, cv=StratifiedKFold(5), scoring='accuracy')"
   ]
  },
  {
   "cell_type": "markdown",
   "metadata": {},
   "source": [
    "Pipeline including preprocessor, RFECV, and SVM classifier"
   ]
  },
  {
   "cell_type": "code",
   "execution_count": 14,
   "metadata": {},
   "outputs": [],
   "source": [
    "pipeline = Pipeline(steps=[('preprocessor', preprocessor),\n",
    "                           ('feature_selection', rfecv),\n",
    "                           ('svm', svm_clf)])"
   ]
  },
  {
   "cell_type": "markdown",
   "metadata": {},
   "source": [
    "Splitting data into training and testing sets"
   ]
  },
  {
   "cell_type": "code",
   "execution_count": 15,
   "metadata": {},
   "outputs": [],
   "source": [
    "X_train, X_test, y_train, y_test = train_test_split(X, y, test_size=0.2, random_state=42)"
   ]
  },
  {
   "cell_type": "markdown",
   "metadata": {},
   "source": [
    "Fitting the pipeline to the training data"
   ]
  },
  {
   "cell_type": "code",
   "execution_count": 16,
   "metadata": {},
   "outputs": [
    {
     "data": {
      "text/html": [
       "<style>#sk-container-id-1 {\n",
       "  /* Definition of color scheme common for light and dark mode */\n",
       "  --sklearn-color-text: black;\n",
       "  --sklearn-color-line: gray;\n",
       "  /* Definition of color scheme for unfitted estimators */\n",
       "  --sklearn-color-unfitted-level-0: #fff5e6;\n",
       "  --sklearn-color-unfitted-level-1: #f6e4d2;\n",
       "  --sklearn-color-unfitted-level-2: #ffe0b3;\n",
       "  --sklearn-color-unfitted-level-3: chocolate;\n",
       "  /* Definition of color scheme for fitted estimators */\n",
       "  --sklearn-color-fitted-level-0: #f0f8ff;\n",
       "  --sklearn-color-fitted-level-1: #d4ebff;\n",
       "  --sklearn-color-fitted-level-2: #b3dbfd;\n",
       "  --sklearn-color-fitted-level-3: cornflowerblue;\n",
       "\n",
       "  /* Specific color for light theme */\n",
       "  --sklearn-color-text-on-default-background: var(--sg-text-color, var(--theme-code-foreground, var(--jp-content-font-color1, black)));\n",
       "  --sklearn-color-background: var(--sg-background-color, var(--theme-background, var(--jp-layout-color0, white)));\n",
       "  --sklearn-color-border-box: var(--sg-text-color, var(--theme-code-foreground, var(--jp-content-font-color1, black)));\n",
       "  --sklearn-color-icon: #696969;\n",
       "\n",
       "  @media (prefers-color-scheme: dark) {\n",
       "    /* Redefinition of color scheme for dark theme */\n",
       "    --sklearn-color-text-on-default-background: var(--sg-text-color, var(--theme-code-foreground, var(--jp-content-font-color1, white)));\n",
       "    --sklearn-color-background: var(--sg-background-color, var(--theme-background, var(--jp-layout-color0, #111)));\n",
       "    --sklearn-color-border-box: var(--sg-text-color, var(--theme-code-foreground, var(--jp-content-font-color1, white)));\n",
       "    --sklearn-color-icon: #878787;\n",
       "  }\n",
       "}\n",
       "\n",
       "#sk-container-id-1 {\n",
       "  color: var(--sklearn-color-text);\n",
       "}\n",
       "\n",
       "#sk-container-id-1 pre {\n",
       "  padding: 0;\n",
       "}\n",
       "\n",
       "#sk-container-id-1 input.sk-hidden--visually {\n",
       "  border: 0;\n",
       "  clip: rect(1px 1px 1px 1px);\n",
       "  clip: rect(1px, 1px, 1px, 1px);\n",
       "  height: 1px;\n",
       "  margin: -1px;\n",
       "  overflow: hidden;\n",
       "  padding: 0;\n",
       "  position: absolute;\n",
       "  width: 1px;\n",
       "}\n",
       "\n",
       "#sk-container-id-1 div.sk-dashed-wrapped {\n",
       "  border: 1px dashed var(--sklearn-color-line);\n",
       "  margin: 0 0.4em 0.5em 0.4em;\n",
       "  box-sizing: border-box;\n",
       "  padding-bottom: 0.4em;\n",
       "  background-color: var(--sklearn-color-background);\n",
       "}\n",
       "\n",
       "#sk-container-id-1 div.sk-container {\n",
       "  /* jupyter's `normalize.less` sets `[hidden] { display: none; }`\n",
       "     but bootstrap.min.css set `[hidden] { display: none !important; }`\n",
       "     so we also need the `!important` here to be able to override the\n",
       "     default hidden behavior on the sphinx rendered scikit-learn.org.\n",
       "     See: https://github.com/scikit-learn/scikit-learn/issues/21755 */\n",
       "  display: inline-block !important;\n",
       "  position: relative;\n",
       "}\n",
       "\n",
       "#sk-container-id-1 div.sk-text-repr-fallback {\n",
       "  display: none;\n",
       "}\n",
       "\n",
       "div.sk-parallel-item,\n",
       "div.sk-serial,\n",
       "div.sk-item {\n",
       "  /* draw centered vertical line to link estimators */\n",
       "  background-image: linear-gradient(var(--sklearn-color-text-on-default-background), var(--sklearn-color-text-on-default-background));\n",
       "  background-size: 2px 100%;\n",
       "  background-repeat: no-repeat;\n",
       "  background-position: center center;\n",
       "}\n",
       "\n",
       "/* Parallel-specific style estimator block */\n",
       "\n",
       "#sk-container-id-1 div.sk-parallel-item::after {\n",
       "  content: \"\";\n",
       "  width: 100%;\n",
       "  border-bottom: 2px solid var(--sklearn-color-text-on-default-background);\n",
       "  flex-grow: 1;\n",
       "}\n",
       "\n",
       "#sk-container-id-1 div.sk-parallel {\n",
       "  display: flex;\n",
       "  align-items: stretch;\n",
       "  justify-content: center;\n",
       "  background-color: var(--sklearn-color-background);\n",
       "  position: relative;\n",
       "}\n",
       "\n",
       "#sk-container-id-1 div.sk-parallel-item {\n",
       "  display: flex;\n",
       "  flex-direction: column;\n",
       "}\n",
       "\n",
       "#sk-container-id-1 div.sk-parallel-item:first-child::after {\n",
       "  align-self: flex-end;\n",
       "  width: 50%;\n",
       "}\n",
       "\n",
       "#sk-container-id-1 div.sk-parallel-item:last-child::after {\n",
       "  align-self: flex-start;\n",
       "  width: 50%;\n",
       "}\n",
       "\n",
       "#sk-container-id-1 div.sk-parallel-item:only-child::after {\n",
       "  width: 0;\n",
       "}\n",
       "\n",
       "/* Serial-specific style estimator block */\n",
       "\n",
       "#sk-container-id-1 div.sk-serial {\n",
       "  display: flex;\n",
       "  flex-direction: column;\n",
       "  align-items: center;\n",
       "  background-color: var(--sklearn-color-background);\n",
       "  padding-right: 1em;\n",
       "  padding-left: 1em;\n",
       "}\n",
       "\n",
       "\n",
       "/* Toggleable style: style used for estimator/Pipeline/ColumnTransformer box that is\n",
       "clickable and can be expanded/collapsed.\n",
       "- Pipeline and ColumnTransformer use this feature and define the default style\n",
       "- Estimators will overwrite some part of the style using the `sk-estimator` class\n",
       "*/\n",
       "\n",
       "/* Pipeline and ColumnTransformer style (default) */\n",
       "\n",
       "#sk-container-id-1 div.sk-toggleable {\n",
       "  /* Default theme specific background. It is overwritten whether we have a\n",
       "  specific estimator or a Pipeline/ColumnTransformer */\n",
       "  background-color: var(--sklearn-color-background);\n",
       "}\n",
       "\n",
       "/* Toggleable label */\n",
       "#sk-container-id-1 label.sk-toggleable__label {\n",
       "  cursor: pointer;\n",
       "  display: block;\n",
       "  width: 100%;\n",
       "  margin-bottom: 0;\n",
       "  padding: 0.5em;\n",
       "  box-sizing: border-box;\n",
       "  text-align: center;\n",
       "}\n",
       "\n",
       "#sk-container-id-1 label.sk-toggleable__label-arrow:before {\n",
       "  /* Arrow on the left of the label */\n",
       "  content: \"▸\";\n",
       "  float: left;\n",
       "  margin-right: 0.25em;\n",
       "  color: var(--sklearn-color-icon);\n",
       "}\n",
       "\n",
       "#sk-container-id-1 label.sk-toggleable__label-arrow:hover:before {\n",
       "  color: var(--sklearn-color-text);\n",
       "}\n",
       "\n",
       "/* Toggleable content - dropdown */\n",
       "\n",
       "#sk-container-id-1 div.sk-toggleable__content {\n",
       "  max-height: 0;\n",
       "  max-width: 0;\n",
       "  overflow: hidden;\n",
       "  text-align: left;\n",
       "  /* unfitted */\n",
       "  background-color: var(--sklearn-color-unfitted-level-0);\n",
       "}\n",
       "\n",
       "#sk-container-id-1 div.sk-toggleable__content.fitted {\n",
       "  /* fitted */\n",
       "  background-color: var(--sklearn-color-fitted-level-0);\n",
       "}\n",
       "\n",
       "#sk-container-id-1 div.sk-toggleable__content pre {\n",
       "  margin: 0.2em;\n",
       "  border-radius: 0.25em;\n",
       "  color: var(--sklearn-color-text);\n",
       "  /* unfitted */\n",
       "  background-color: var(--sklearn-color-unfitted-level-0);\n",
       "}\n",
       "\n",
       "#sk-container-id-1 div.sk-toggleable__content.fitted pre {\n",
       "  /* unfitted */\n",
       "  background-color: var(--sklearn-color-fitted-level-0);\n",
       "}\n",
       "\n",
       "#sk-container-id-1 input.sk-toggleable__control:checked~div.sk-toggleable__content {\n",
       "  /* Expand drop-down */\n",
       "  max-height: 200px;\n",
       "  max-width: 100%;\n",
       "  overflow: auto;\n",
       "}\n",
       "\n",
       "#sk-container-id-1 input.sk-toggleable__control:checked~label.sk-toggleable__label-arrow:before {\n",
       "  content: \"▾\";\n",
       "}\n",
       "\n",
       "/* Pipeline/ColumnTransformer-specific style */\n",
       "\n",
       "#sk-container-id-1 div.sk-label input.sk-toggleable__control:checked~label.sk-toggleable__label {\n",
       "  color: var(--sklearn-color-text);\n",
       "  background-color: var(--sklearn-color-unfitted-level-2);\n",
       "}\n",
       "\n",
       "#sk-container-id-1 div.sk-label.fitted input.sk-toggleable__control:checked~label.sk-toggleable__label {\n",
       "  background-color: var(--sklearn-color-fitted-level-2);\n",
       "}\n",
       "\n",
       "/* Estimator-specific style */\n",
       "\n",
       "/* Colorize estimator box */\n",
       "#sk-container-id-1 div.sk-estimator input.sk-toggleable__control:checked~label.sk-toggleable__label {\n",
       "  /* unfitted */\n",
       "  background-color: var(--sklearn-color-unfitted-level-2);\n",
       "}\n",
       "\n",
       "#sk-container-id-1 div.sk-estimator.fitted input.sk-toggleable__control:checked~label.sk-toggleable__label {\n",
       "  /* fitted */\n",
       "  background-color: var(--sklearn-color-fitted-level-2);\n",
       "}\n",
       "\n",
       "#sk-container-id-1 div.sk-label label.sk-toggleable__label,\n",
       "#sk-container-id-1 div.sk-label label {\n",
       "  /* The background is the default theme color */\n",
       "  color: var(--sklearn-color-text-on-default-background);\n",
       "}\n",
       "\n",
       "/* On hover, darken the color of the background */\n",
       "#sk-container-id-1 div.sk-label:hover label.sk-toggleable__label {\n",
       "  color: var(--sklearn-color-text);\n",
       "  background-color: var(--sklearn-color-unfitted-level-2);\n",
       "}\n",
       "\n",
       "/* Label box, darken color on hover, fitted */\n",
       "#sk-container-id-1 div.sk-label.fitted:hover label.sk-toggleable__label.fitted {\n",
       "  color: var(--sklearn-color-text);\n",
       "  background-color: var(--sklearn-color-fitted-level-2);\n",
       "}\n",
       "\n",
       "/* Estimator label */\n",
       "\n",
       "#sk-container-id-1 div.sk-label label {\n",
       "  font-family: monospace;\n",
       "  font-weight: bold;\n",
       "  display: inline-block;\n",
       "  line-height: 1.2em;\n",
       "}\n",
       "\n",
       "#sk-container-id-1 div.sk-label-container {\n",
       "  text-align: center;\n",
       "}\n",
       "\n",
       "/* Estimator-specific */\n",
       "#sk-container-id-1 div.sk-estimator {\n",
       "  font-family: monospace;\n",
       "  border: 1px dotted var(--sklearn-color-border-box);\n",
       "  border-radius: 0.25em;\n",
       "  box-sizing: border-box;\n",
       "  margin-bottom: 0.5em;\n",
       "  /* unfitted */\n",
       "  background-color: var(--sklearn-color-unfitted-level-0);\n",
       "}\n",
       "\n",
       "#sk-container-id-1 div.sk-estimator.fitted {\n",
       "  /* fitted */\n",
       "  background-color: var(--sklearn-color-fitted-level-0);\n",
       "}\n",
       "\n",
       "/* on hover */\n",
       "#sk-container-id-1 div.sk-estimator:hover {\n",
       "  /* unfitted */\n",
       "  background-color: var(--sklearn-color-unfitted-level-2);\n",
       "}\n",
       "\n",
       "#sk-container-id-1 div.sk-estimator.fitted:hover {\n",
       "  /* fitted */\n",
       "  background-color: var(--sklearn-color-fitted-level-2);\n",
       "}\n",
       "\n",
       "/* Specification for estimator info (e.g. \"i\" and \"?\") */\n",
       "\n",
       "/* Common style for \"i\" and \"?\" */\n",
       "\n",
       ".sk-estimator-doc-link,\n",
       "a:link.sk-estimator-doc-link,\n",
       "a:visited.sk-estimator-doc-link {\n",
       "  float: right;\n",
       "  font-size: smaller;\n",
       "  line-height: 1em;\n",
       "  font-family: monospace;\n",
       "  background-color: var(--sklearn-color-background);\n",
       "  border-radius: 1em;\n",
       "  height: 1em;\n",
       "  width: 1em;\n",
       "  text-decoration: none !important;\n",
       "  margin-left: 1ex;\n",
       "  /* unfitted */\n",
       "  border: var(--sklearn-color-unfitted-level-1) 1pt solid;\n",
       "  color: var(--sklearn-color-unfitted-level-1);\n",
       "}\n",
       "\n",
       ".sk-estimator-doc-link.fitted,\n",
       "a:link.sk-estimator-doc-link.fitted,\n",
       "a:visited.sk-estimator-doc-link.fitted {\n",
       "  /* fitted */\n",
       "  border: var(--sklearn-color-fitted-level-1) 1pt solid;\n",
       "  color: var(--sklearn-color-fitted-level-1);\n",
       "}\n",
       "\n",
       "/* On hover */\n",
       "div.sk-estimator:hover .sk-estimator-doc-link:hover,\n",
       ".sk-estimator-doc-link:hover,\n",
       "div.sk-label-container:hover .sk-estimator-doc-link:hover,\n",
       ".sk-estimator-doc-link:hover {\n",
       "  /* unfitted */\n",
       "  background-color: var(--sklearn-color-unfitted-level-3);\n",
       "  color: var(--sklearn-color-background);\n",
       "  text-decoration: none;\n",
       "}\n",
       "\n",
       "div.sk-estimator.fitted:hover .sk-estimator-doc-link.fitted:hover,\n",
       ".sk-estimator-doc-link.fitted:hover,\n",
       "div.sk-label-container:hover .sk-estimator-doc-link.fitted:hover,\n",
       ".sk-estimator-doc-link.fitted:hover {\n",
       "  /* fitted */\n",
       "  background-color: var(--sklearn-color-fitted-level-3);\n",
       "  color: var(--sklearn-color-background);\n",
       "  text-decoration: none;\n",
       "}\n",
       "\n",
       "/* Span, style for the box shown on hovering the info icon */\n",
       ".sk-estimator-doc-link span {\n",
       "  display: none;\n",
       "  z-index: 9999;\n",
       "  position: relative;\n",
       "  font-weight: normal;\n",
       "  right: .2ex;\n",
       "  padding: .5ex;\n",
       "  margin: .5ex;\n",
       "  width: min-content;\n",
       "  min-width: 20ex;\n",
       "  max-width: 50ex;\n",
       "  color: var(--sklearn-color-text);\n",
       "  box-shadow: 2pt 2pt 4pt #999;\n",
       "  /* unfitted */\n",
       "  background: var(--sklearn-color-unfitted-level-0);\n",
       "  border: .5pt solid var(--sklearn-color-unfitted-level-3);\n",
       "}\n",
       "\n",
       ".sk-estimator-doc-link.fitted span {\n",
       "  /* fitted */\n",
       "  background: var(--sklearn-color-fitted-level-0);\n",
       "  border: var(--sklearn-color-fitted-level-3);\n",
       "}\n",
       "\n",
       ".sk-estimator-doc-link:hover span {\n",
       "  display: block;\n",
       "}\n",
       "\n",
       "/* \"?\"-specific style due to the `<a>` HTML tag */\n",
       "\n",
       "#sk-container-id-1 a.estimator_doc_link {\n",
       "  float: right;\n",
       "  font-size: 1rem;\n",
       "  line-height: 1em;\n",
       "  font-family: monospace;\n",
       "  background-color: var(--sklearn-color-background);\n",
       "  border-radius: 1rem;\n",
       "  height: 1rem;\n",
       "  width: 1rem;\n",
       "  text-decoration: none;\n",
       "  /* unfitted */\n",
       "  color: var(--sklearn-color-unfitted-level-1);\n",
       "  border: var(--sklearn-color-unfitted-level-1) 1pt solid;\n",
       "}\n",
       "\n",
       "#sk-container-id-1 a.estimator_doc_link.fitted {\n",
       "  /* fitted */\n",
       "  border: var(--sklearn-color-fitted-level-1) 1pt solid;\n",
       "  color: var(--sklearn-color-fitted-level-1);\n",
       "}\n",
       "\n",
       "/* On hover */\n",
       "#sk-container-id-1 a.estimator_doc_link:hover {\n",
       "  /* unfitted */\n",
       "  background-color: var(--sklearn-color-unfitted-level-3);\n",
       "  color: var(--sklearn-color-background);\n",
       "  text-decoration: none;\n",
       "}\n",
       "\n",
       "#sk-container-id-1 a.estimator_doc_link.fitted:hover {\n",
       "  /* fitted */\n",
       "  background-color: var(--sklearn-color-fitted-level-3);\n",
       "}\n",
       "</style><div id=\"sk-container-id-1\" class=\"sk-top-container\"><div class=\"sk-text-repr-fallback\"><pre>Pipeline(steps=[(&#x27;preprocessor&#x27;,\n",
       "                 ColumnTransformer(transformers=[(&#x27;cat&#x27;, OneHotEncoder(),\n",
       "                                                  Index([&#x27;date&#x27;, &#x27;plant-stand&#x27;, &#x27;precip&#x27;, &#x27;temp&#x27;, &#x27;hail&#x27;, &#x27;crop-hist&#x27;,\n",
       "       &#x27;area-damaged&#x27;, &#x27;severity&#x27;, &#x27;seed-tmt&#x27;, &#x27;germination&#x27;, &#x27;plant-growth&#x27;,\n",
       "       &#x27;leaves&#x27;, &#x27;leafspots-halo&#x27;, &#x27;leafspots-marg&#x27;, &#x27;leafspot-size&#x27;,\n",
       "       &#x27;leaf-shread&#x27;, &#x27;leaf-malf&#x27;, &#x27;leaf-mild&#x27;, &#x27;stem&#x27;, &#x27;lodging&#x27;,\n",
       "       &#x27;stem-cankers&#x27;, &#x27;cank...\n",
       "       &#x27;mycelium&#x27;, &#x27;int-discolor&#x27;, &#x27;sclerotia&#x27;, &#x27;fruit-pods&#x27;, &#x27;fruit-spots&#x27;,\n",
       "       &#x27;seed&#x27;, &#x27;mold-growth&#x27;, &#x27;seed-discolor&#x27;, &#x27;seed-size&#x27;, &#x27;shriveling&#x27;,\n",
       "       &#x27;roots&#x27;],\n",
       "      dtype=&#x27;object&#x27;))])),\n",
       "                (&#x27;feature_selection&#x27;,\n",
       "                 RFECV(cv=StratifiedKFold(n_splits=5, random_state=None, shuffle=False),\n",
       "                       estimator=SVC(C=1, kernel=&#x27;linear&#x27;, random_state=42),\n",
       "                       scoring=&#x27;accuracy&#x27;)),\n",
       "                (&#x27;svm&#x27;, SVC(C=1, kernel=&#x27;linear&#x27;, random_state=42))])</pre><b>In a Jupyter environment, please rerun this cell to show the HTML representation or trust the notebook. <br />On GitHub, the HTML representation is unable to render, please try loading this page with nbviewer.org.</b></div><div class=\"sk-container\" hidden><div class=\"sk-item sk-dashed-wrapped\"><div class=\"sk-label-container\"><div class=\"sk-label fitted sk-toggleable\"><input class=\"sk-toggleable__control sk-hidden--visually\" id=\"sk-estimator-id-1\" type=\"checkbox\" ><label for=\"sk-estimator-id-1\" class=\"sk-toggleable__label fitted sk-toggleable__label-arrow fitted\">&nbsp;&nbsp;Pipeline<a class=\"sk-estimator-doc-link fitted\" rel=\"noreferrer\" target=\"_blank\" href=\"https://scikit-learn.org/1.4/modules/generated/sklearn.pipeline.Pipeline.html\">?<span>Documentation for Pipeline</span></a><span class=\"sk-estimator-doc-link fitted\">i<span>Fitted</span></span></label><div class=\"sk-toggleable__content fitted\"><pre>Pipeline(steps=[(&#x27;preprocessor&#x27;,\n",
       "                 ColumnTransformer(transformers=[(&#x27;cat&#x27;, OneHotEncoder(),\n",
       "                                                  Index([&#x27;date&#x27;, &#x27;plant-stand&#x27;, &#x27;precip&#x27;, &#x27;temp&#x27;, &#x27;hail&#x27;, &#x27;crop-hist&#x27;,\n",
       "       &#x27;area-damaged&#x27;, &#x27;severity&#x27;, &#x27;seed-tmt&#x27;, &#x27;germination&#x27;, &#x27;plant-growth&#x27;,\n",
       "       &#x27;leaves&#x27;, &#x27;leafspots-halo&#x27;, &#x27;leafspots-marg&#x27;, &#x27;leafspot-size&#x27;,\n",
       "       &#x27;leaf-shread&#x27;, &#x27;leaf-malf&#x27;, &#x27;leaf-mild&#x27;, &#x27;stem&#x27;, &#x27;lodging&#x27;,\n",
       "       &#x27;stem-cankers&#x27;, &#x27;cank...\n",
       "       &#x27;mycelium&#x27;, &#x27;int-discolor&#x27;, &#x27;sclerotia&#x27;, &#x27;fruit-pods&#x27;, &#x27;fruit-spots&#x27;,\n",
       "       &#x27;seed&#x27;, &#x27;mold-growth&#x27;, &#x27;seed-discolor&#x27;, &#x27;seed-size&#x27;, &#x27;shriveling&#x27;,\n",
       "       &#x27;roots&#x27;],\n",
       "      dtype=&#x27;object&#x27;))])),\n",
       "                (&#x27;feature_selection&#x27;,\n",
       "                 RFECV(cv=StratifiedKFold(n_splits=5, random_state=None, shuffle=False),\n",
       "                       estimator=SVC(C=1, kernel=&#x27;linear&#x27;, random_state=42),\n",
       "                       scoring=&#x27;accuracy&#x27;)),\n",
       "                (&#x27;svm&#x27;, SVC(C=1, kernel=&#x27;linear&#x27;, random_state=42))])</pre></div> </div></div><div class=\"sk-serial\"><div class=\"sk-item sk-dashed-wrapped\"><div class=\"sk-label-container\"><div class=\"sk-label fitted sk-toggleable\"><input class=\"sk-toggleable__control sk-hidden--visually\" id=\"sk-estimator-id-2\" type=\"checkbox\" ><label for=\"sk-estimator-id-2\" class=\"sk-toggleable__label fitted sk-toggleable__label-arrow fitted\">&nbsp;preprocessor: ColumnTransformer<a class=\"sk-estimator-doc-link fitted\" rel=\"noreferrer\" target=\"_blank\" href=\"https://scikit-learn.org/1.4/modules/generated/sklearn.compose.ColumnTransformer.html\">?<span>Documentation for preprocessor: ColumnTransformer</span></a></label><div class=\"sk-toggleable__content fitted\"><pre>ColumnTransformer(transformers=[(&#x27;cat&#x27;, OneHotEncoder(),\n",
       "                                 Index([&#x27;date&#x27;, &#x27;plant-stand&#x27;, &#x27;precip&#x27;, &#x27;temp&#x27;, &#x27;hail&#x27;, &#x27;crop-hist&#x27;,\n",
       "       &#x27;area-damaged&#x27;, &#x27;severity&#x27;, &#x27;seed-tmt&#x27;, &#x27;germination&#x27;, &#x27;plant-growth&#x27;,\n",
       "       &#x27;leaves&#x27;, &#x27;leafspots-halo&#x27;, &#x27;leafspots-marg&#x27;, &#x27;leafspot-size&#x27;,\n",
       "       &#x27;leaf-shread&#x27;, &#x27;leaf-malf&#x27;, &#x27;leaf-mild&#x27;, &#x27;stem&#x27;, &#x27;lodging&#x27;,\n",
       "       &#x27;stem-cankers&#x27;, &#x27;canker-lesion&#x27;, &#x27;fruiting-bodies&#x27;, &#x27;external-decay&#x27;,\n",
       "       &#x27;mycelium&#x27;, &#x27;int-discolor&#x27;, &#x27;sclerotia&#x27;, &#x27;fruit-pods&#x27;, &#x27;fruit-spots&#x27;,\n",
       "       &#x27;seed&#x27;, &#x27;mold-growth&#x27;, &#x27;seed-discolor&#x27;, &#x27;seed-size&#x27;, &#x27;shriveling&#x27;,\n",
       "       &#x27;roots&#x27;],\n",
       "      dtype=&#x27;object&#x27;))])</pre></div> </div></div><div class=\"sk-parallel\"><div class=\"sk-parallel-item\"><div class=\"sk-item\"><div class=\"sk-label-container\"><div class=\"sk-label fitted sk-toggleable\"><input class=\"sk-toggleable__control sk-hidden--visually\" id=\"sk-estimator-id-3\" type=\"checkbox\" ><label for=\"sk-estimator-id-3\" class=\"sk-toggleable__label fitted sk-toggleable__label-arrow fitted\">cat</label><div class=\"sk-toggleable__content fitted\"><pre>Index([&#x27;date&#x27;, &#x27;plant-stand&#x27;, &#x27;precip&#x27;, &#x27;temp&#x27;, &#x27;hail&#x27;, &#x27;crop-hist&#x27;,\n",
       "       &#x27;area-damaged&#x27;, &#x27;severity&#x27;, &#x27;seed-tmt&#x27;, &#x27;germination&#x27;, &#x27;plant-growth&#x27;,\n",
       "       &#x27;leaves&#x27;, &#x27;leafspots-halo&#x27;, &#x27;leafspots-marg&#x27;, &#x27;leafspot-size&#x27;,\n",
       "       &#x27;leaf-shread&#x27;, &#x27;leaf-malf&#x27;, &#x27;leaf-mild&#x27;, &#x27;stem&#x27;, &#x27;lodging&#x27;,\n",
       "       &#x27;stem-cankers&#x27;, &#x27;canker-lesion&#x27;, &#x27;fruiting-bodies&#x27;, &#x27;external-decay&#x27;,\n",
       "       &#x27;mycelium&#x27;, &#x27;int-discolor&#x27;, &#x27;sclerotia&#x27;, &#x27;fruit-pods&#x27;, &#x27;fruit-spots&#x27;,\n",
       "       &#x27;seed&#x27;, &#x27;mold-growth&#x27;, &#x27;seed-discolor&#x27;, &#x27;seed-size&#x27;, &#x27;shriveling&#x27;,\n",
       "       &#x27;roots&#x27;],\n",
       "      dtype=&#x27;object&#x27;)</pre></div> </div></div><div class=\"sk-serial\"><div class=\"sk-item\"><div class=\"sk-estimator fitted sk-toggleable\"><input class=\"sk-toggleable__control sk-hidden--visually\" id=\"sk-estimator-id-4\" type=\"checkbox\" ><label for=\"sk-estimator-id-4\" class=\"sk-toggleable__label fitted sk-toggleable__label-arrow fitted\">&nbsp;OneHotEncoder<a class=\"sk-estimator-doc-link fitted\" rel=\"noreferrer\" target=\"_blank\" href=\"https://scikit-learn.org/1.4/modules/generated/sklearn.preprocessing.OneHotEncoder.html\">?<span>Documentation for OneHotEncoder</span></a></label><div class=\"sk-toggleable__content fitted\"><pre>OneHotEncoder()</pre></div> </div></div></div></div></div></div></div><div class=\"sk-item sk-dashed-wrapped\"><div class=\"sk-label-container\"><div class=\"sk-label fitted sk-toggleable\"><input class=\"sk-toggleable__control sk-hidden--visually\" id=\"sk-estimator-id-5\" type=\"checkbox\" ><label for=\"sk-estimator-id-5\" class=\"sk-toggleable__label fitted sk-toggleable__label-arrow fitted\">&nbsp;feature_selection: RFECV<a class=\"sk-estimator-doc-link fitted\" rel=\"noreferrer\" target=\"_blank\" href=\"https://scikit-learn.org/1.4/modules/generated/sklearn.feature_selection.RFECV.html\">?<span>Documentation for feature_selection: RFECV</span></a></label><div class=\"sk-toggleable__content fitted\"><pre>RFECV(cv=StratifiedKFold(n_splits=5, random_state=None, shuffle=False),\n",
       "      estimator=SVC(C=1, kernel=&#x27;linear&#x27;, random_state=42), scoring=&#x27;accuracy&#x27;)</pre></div> </div></div><div class=\"sk-parallel\"><div class=\"sk-parallel-item\"><div class=\"sk-item\"><div class=\"sk-label-container\"><div class=\"sk-label fitted sk-toggleable\"><input class=\"sk-toggleable__control sk-hidden--visually\" id=\"sk-estimator-id-6\" type=\"checkbox\" ><label for=\"sk-estimator-id-6\" class=\"sk-toggleable__label fitted sk-toggleable__label-arrow fitted\">estimator: SVC</label><div class=\"sk-toggleable__content fitted\"><pre>SVC(C=1, kernel=&#x27;linear&#x27;, random_state=42)</pre></div> </div></div><div class=\"sk-serial\"><div class=\"sk-item\"><div class=\"sk-estimator fitted sk-toggleable\"><input class=\"sk-toggleable__control sk-hidden--visually\" id=\"sk-estimator-id-7\" type=\"checkbox\" ><label for=\"sk-estimator-id-7\" class=\"sk-toggleable__label fitted sk-toggleable__label-arrow fitted\">&nbsp;SVC<a class=\"sk-estimator-doc-link fitted\" rel=\"noreferrer\" target=\"_blank\" href=\"https://scikit-learn.org/1.4/modules/generated/sklearn.svm.SVC.html\">?<span>Documentation for SVC</span></a></label><div class=\"sk-toggleable__content fitted\"><pre>SVC(C=1, kernel=&#x27;linear&#x27;, random_state=42)</pre></div> </div></div></div></div></div></div></div><div class=\"sk-item\"><div class=\"sk-estimator fitted sk-toggleable\"><input class=\"sk-toggleable__control sk-hidden--visually\" id=\"sk-estimator-id-8\" type=\"checkbox\" ><label for=\"sk-estimator-id-8\" class=\"sk-toggleable__label fitted sk-toggleable__label-arrow fitted\">&nbsp;SVC<a class=\"sk-estimator-doc-link fitted\" rel=\"noreferrer\" target=\"_blank\" href=\"https://scikit-learn.org/1.4/modules/generated/sklearn.svm.SVC.html\">?<span>Documentation for SVC</span></a></label><div class=\"sk-toggleable__content fitted\"><pre>SVC(C=1, kernel=&#x27;linear&#x27;, random_state=42)</pre></div> </div></div></div></div></div></div>"
      ],
      "text/plain": [
       "Pipeline(steps=[('preprocessor',\n",
       "                 ColumnTransformer(transformers=[('cat', OneHotEncoder(),\n",
       "                                                  Index(['date', 'plant-stand', 'precip', 'temp', 'hail', 'crop-hist',\n",
       "       'area-damaged', 'severity', 'seed-tmt', 'germination', 'plant-growth',\n",
       "       'leaves', 'leafspots-halo', 'leafspots-marg', 'leafspot-size',\n",
       "       'leaf-shread', 'leaf-malf', 'leaf-mild', 'stem', 'lodging',\n",
       "       'stem-cankers', 'cank...\n",
       "       'mycelium', 'int-discolor', 'sclerotia', 'fruit-pods', 'fruit-spots',\n",
       "       'seed', 'mold-growth', 'seed-discolor', 'seed-size', 'shriveling',\n",
       "       'roots'],\n",
       "      dtype='object'))])),\n",
       "                ('feature_selection',\n",
       "                 RFECV(cv=StratifiedKFold(n_splits=5, random_state=None, shuffle=False),\n",
       "                       estimator=SVC(C=1, kernel='linear', random_state=42),\n",
       "                       scoring='accuracy')),\n",
       "                ('svm', SVC(C=1, kernel='linear', random_state=42))])"
      ]
     },
     "execution_count": 16,
     "metadata": {},
     "output_type": "execute_result"
    }
   ],
   "source": [
    "pipeline.fit(X_train, y_train)"
   ]
  },
  {
   "cell_type": "markdown",
   "metadata": {},
   "source": [
    "Making predictions on the test data"
   ]
  },
  {
   "cell_type": "code",
   "execution_count": 17,
   "metadata": {},
   "outputs": [],
   "source": [
    "y_pred = pipeline.predict(X_test)"
   ]
  },
  {
   "cell_type": "markdown",
   "metadata": {},
   "source": [
    "Evaluating the model"
   ]
  },
  {
   "cell_type": "code",
   "execution_count": 18,
   "metadata": {},
   "outputs": [
    {
     "name": "stdout",
     "output_type": "stream",
     "text": [
      "Accuracy: 0.9444444444444444\n",
      "Classification Report:\n",
      "                              precision    recall  f1-score   support\n",
      "\n",
      "               2-4-d-injury       1.00      1.00      1.00         3\n",
      "        alternarialeaf-spot       0.86      0.90      0.88        20\n",
      "                anthracnose       1.00      1.00      1.00         7\n",
      "           bacterial-blight       1.00      1.00      1.00         4\n",
      "          bacterial-pustule       1.00      1.00      1.00         5\n",
      "                 brown-spot       1.00      0.87      0.93        15\n",
      "             brown-stem-rot       1.00      1.00      1.00        10\n",
      "               charcoal-rot       1.00      1.00      1.00         3\n",
      "              cyst-nematode       1.00      1.00      1.00         1\n",
      "diaporthe-pod-&-stem-blight       1.00      1.00      1.00         3\n",
      "      diaporthe-stem-canker       1.00      1.00      1.00         5\n",
      "               downy-mildew       1.00      1.00      1.00         1\n",
      "         frog-eye-leaf-spot       0.84      0.84      0.84        19\n",
      "           herbicide-injury       1.00      1.00      1.00         2\n",
      "     phyllosticta-leaf-spot       0.75      1.00      0.86         3\n",
      "           phytophthora-rot       1.00      1.00      1.00        16\n",
      "             powdery-mildew       1.00      1.00      1.00         1\n",
      "          purple-seed-stain       1.00      1.00      1.00         4\n",
      "       rhizoctonia-root-rot       1.00      1.00      1.00         4\n",
      "\n",
      "                   accuracy                           0.94       126\n",
      "                  macro avg       0.97      0.98      0.97       126\n",
      "               weighted avg       0.95      0.94      0.94       126\n",
      "\n"
     ]
    }
   ],
   "source": [
    "accuracy = accuracy_score(y_test, y_pred)\n",
    "classification_rep = classification_report(y_test, y_pred)\n",
    "\n",
    "print(\"Accuracy:\", accuracy)\n",
    "print(\"Classification Report:\\n\", classification_rep)"
   ]
  }
 ],
 "metadata": {
  "kernelspec": {
   "display_name": "env",
   "language": "python",
   "name": "python3"
  },
  "language_info": {
   "codemirror_mode": {
    "name": "ipython",
    "version": 3
   },
   "file_extension": ".py",
   "mimetype": "text/x-python",
   "name": "python",
   "nbconvert_exporter": "python",
   "pygments_lexer": "ipython3",
   "version": "3.12.1"
  }
 },
 "nbformat": 4,
 "nbformat_minor": 2
}
